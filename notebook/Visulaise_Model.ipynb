{
 "cells": [
  {
   "cell_type": "markdown",
   "metadata": {},
   "source": [
    "# JupyterHub Notebook\n",
    "\n",
    "### This notebook server is hosted on the OpenShift platform which provides a separate server for each individual user. The platform takes care of the provisioning of the server and allocating related to storage.\n"
   ]
  },
  {
   "cell_type": "code",
   "execution_count": null,
   "metadata": {
    "collapsed": false,
    "jupyter": {
     "outputs_hidden": false
    },
    "pycharm": {
     "name": "#%%\n"
    }
   },
   "outputs": [],
   "source": [
    "import matplotlib\n",
    "import matplotlib.pyplot as plt\n",
    "\n",
    "import numpy as np\n",
    "import pandas as pd\n",
    "\n",
    "import watermark\n",
    "# import s3fs\n",
    "import numpy as np\n",
    "import pandas as pd\n",
    "import seaborn as sns\n",
    "import matplotlib.pyplot as plt\n",
    "from sklearn.preprocessing import LabelEncoder\n",
    "from sklearn.model_selection import train_test_split\n",
    "from sklearn.model_selection import GridSearchCV\n",
    "from sklearn.model_selection import KFold\n",
    "from sklearn import model_selection\n",
    "from sklearn.tree import DecisionTreeClassifier\n",
    "from sklearn.ensemble import RandomForestClassifier\n",
    "\n",
    "from minio import Minio\n",
    "from verta import Client\n",
    "from minio.error import ResponseError\n",
    "import os\n",
    "from sklearn.preprocessing import OneHotEncoder\n",
    "\n",
    "from sklearn.pipeline import Pipeline\n",
    "\n",
    "# import tools as tools\n",
    "%matplotlib inline\n",
    "%load_ext watermark"
   ]
  },
  {
   "cell_type": "code",
   "execution_count": null,
   "metadata": {
    "collapsed": false,
    "jupyter": {
     "outputs_hidden": false
    },
    "pycharm": {
     "name": "#%%\n"
    }
   },
   "outputs": [],
   "source": [
    "%watermark -n -v -m -g -iv\n"
   ]
  },
  {
   "cell_type": "code",
   "execution_count": null,
   "metadata": {
    "collapsed": false,
    "jupyter": {
     "outputs_hidden": false
    },
    "pycharm": {
     "name": "#%%\n"
    }
   },
   "outputs": [],
   "source": [
    "def get_s3_server():\n",
    "    minioClient = Minio('minio-ml-workshop:9000',\n",
    "                    access_key='minio',\n",
    "                    secret_key='minio123',\n",
    "                    secure=False)\n",
    "\n",
    "    return minioClient"
   ]
  },
  {
   "cell_type": "markdown",
   "metadata": {},
   "source": [
    "### In this next section, on the second line, insert the value you retrieved from Minio object storage earlier - representing the fully qualified name of your csv file in Minio. This is the file pushed by the data engineer in the format: full_data_csv{USERNAME}/{FILENAME}.csv. \n",
    "#### In my case this value is: full_data_csvuser29/part-00000-59149e08-583c-46a5-bfa0-0b3abecbf1a3-c000.csv (yours will be different)\n",
    "### We refer to this fully qualified name in the Github instructions as CSV-FILE"
   ]
  },
  {
   "cell_type": "code",
   "execution_count": null,
   "metadata": {
    "collapsed": false,
    "jupyter": {
     "outputs_hidden": false
    },
    "pycharm": {
     "name": "#%%\n"
    }
   },
   "outputs": [],
   "source": [
    "minioClient = get_s3_server()\n",
    "data_file = minioClient.fget_object(\"data\", \"full_data_csvuser29/part-00000-59149e08-583c-46a5-bfa0-0b3abecbf1a3-c000.csv\", \"/tmp/data.csv\")\n",
    "data_file_version = data_file.version_id\n",
    "data = pd.read_csv('/tmp/data.csv')\n",
    "data.head(5)\n"
   ]
  },
  {
   "cell_type": "markdown",
   "metadata": {},
   "source": [
    "### Use pandas.DataFrame functions\n",
    "- _shape_ to return the dimensionality\n",
    "- _info_ to print a concise summary of the DataFrame\n",
    "- _describe_ to generate descriptive statistics of the DataFrame's columns\n",
    "- _isnull().sum()_ to sum the empty values\n",
    "- finally determine Churn and Total Changes \n"
   ]
  },
  {
   "cell_type": "code",
   "execution_count": null,
   "metadata": {
    "collapsed": false,
    "jupyter": {
     "outputs_hidden": false
    },
    "pycharm": {
     "name": "#%%\n"
    }
   },
   "outputs": [],
   "source": [
    "data.shape"
   ]
  },
  {
   "cell_type": "code",
   "execution_count": null,
   "metadata": {
    "collapsed": false,
    "jupyter": {
     "outputs_hidden": false
    },
    "pycharm": {
     "name": "#%%\n"
    }
   },
   "outputs": [],
   "source": [
    "data.info()"
   ]
  },
  {
   "cell_type": "code",
   "execution_count": null,
   "metadata": {
    "collapsed": false,
    "jupyter": {
     "outputs_hidden": false
    },
    "pycharm": {
     "name": "#%%\n"
    }
   },
   "outputs": [],
   "source": [
    "data.describe()"
   ]
  },
  {
   "cell_type": "code",
   "execution_count": null,
   "metadata": {
    "collapsed": false,
    "jupyter": {
     "outputs_hidden": false
    },
    "pycharm": {
     "name": "#%%\n"
    }
   },
   "outputs": [],
   "source": [
    "data.isnull().sum()"
   ]
  },
  {
   "cell_type": "code",
   "execution_count": null,
   "metadata": {
    "collapsed": false,
    "jupyter": {
     "outputs_hidden": false
    },
    "pycharm": {
     "name": "#%%\n"
    }
   },
   "outputs": [],
   "source": [
    "fig = plt.figure(figsize=(10,6), dpi=80)\n",
    "ax = sns.countplot(x=\"Churn\", data=data)\n",
    "ax.set_title('Distribution of the Target Variable', fontsize=20)\n",
    "ax.set_xlabel('Churn', fontsize = 15)\n",
    "ax.set_ylabel('Count', fontsize = 15)"
   ]
  },
  {
   "cell_type": "code",
   "execution_count": null,
   "metadata": {
    "collapsed": false,
    "jupyter": {
     "outputs_hidden": false
    },
    "pycharm": {
     "name": "#%%\n"
    }
   },
   "outputs": [],
   "source": [
    "# Convert binary variable into numeric so plotting is easier. We need to later take mean\n",
    "data['Churn'] = data['Churn'].map({'Yes': 1, 'No': 0})"
   ]
  },
  {
   "cell_type": "code",
   "execution_count": null,
   "metadata": {
    "collapsed": false,
    "jupyter": {
     "outputs_hidden": false
    },
    "pycharm": {
     "name": "#%%\n"
    }
   },
   "outputs": [],
   "source": [
    "fig, ((ax1,ax2),(ax3,ax4), (ax5,ax6)) = plt.subplots(ncols=2, nrows=3, figsize=(25,17), dpi = 80)\n",
    "plt.subplots_adjust(left=None, bottom=None, right=None, top=None ,wspace=None, hspace=1.5)\n",
    "plt.rc('xtick', labelsize = 12)    # fontsize of the tick labels\n",
    "plt.rc('ytick', labelsize = 12)\n",
    "\n",
    "data.groupby('gender').Churn.sum().plot(kind='bar', ax = ax1)\n",
    "ax1.set_ylabel('Total count',fontsize = 20)\n",
    "ax1.set_xlabel('Gender',fontsize = 20)\n",
    "ax1.tick_params(labelsize = 18)\n",
    "ax1.set_title('Churn count by Gender',fontsize = 20)\n",
    "\n",
    "data.groupby('PrimaryChannel').Churn.sum().plot(kind='bar', ax=ax2)\n",
    "ax2.set_ylabel('Total count',fontsize = 20)\n",
    "ax2.set_xlabel('Internet Service Type',fontsize = 20)\n",
    "ax2.tick_params(labelsize = 18)\n",
    "ax2.set_title('Churn count by Internet Service',fontsize = 20)\n",
    "\n",
    "data.groupby('IncomeProtection').Churn.sum().plot(kind='bar', ax=ax3)\n",
    "ax3.set_ylabel('Total count',fontsize = 20)\n",
    "ax3.set_xlabel('Device Protection',fontsize = 20)\n",
    "ax3.tick_params(labelsize = 18)\n",
    "ax3.set_title('Churn count by Device Protection',fontsize = 20)\n",
    "\n",
    "data.groupby('HasCreditCard').Churn.sum().plot(kind='bar', ax=ax4)\n",
    "ax4.set_ylabel('Total count',fontsize = 20)\n",
    "ax4.set_xlabel('Online Security',fontsize = 20)\n",
    "ax4.tick_params(labelsize = 18)\n",
    "ax4.set_title('Churn count by Online Security',fontsize = 20)\n",
    "\n",
    "data.groupby('WealthManagement').Churn.sum().plot(kind='bar',ax=ax5)\n",
    "ax5.set_ylabel('Total count',fontsize = 20)\n",
    "ax5.set_xlabel('Techinal Support',fontsize = 20)\n",
    "ax5.tick_params(labelsize = 18)\n",
    "ax5.set_title('Churn count by Technical Support',fontsize = 20)\n",
    "\n",
    "data.groupby('CreditRating').Churn.sum().plot(kind='bar',ax=ax6)\n",
    "ax6.set_ylabel('Total count',fontsize = 20)\n",
    "ax6.set_xlabel('CreditRating Type',fontsize = 20)\n",
    "ax6.tick_params(labelsize = 18)\n",
    "ax6.set_title('Churn count by CreditRating',fontsize = 20)\n"
   ]
  },
  {
   "cell_type": "code",
   "execution_count": null,
   "metadata": {
    "collapsed": false,
    "jupyter": {
     "outputs_hidden": false
    },
    "pycharm": {
     "name": "#%%\n"
    }
   },
   "outputs": [],
   "source": [
    "data.replace(\" \", np.nan, inplace=True)"
   ]
  },
  {
   "cell_type": "code",
   "execution_count": null,
   "metadata": {
    "collapsed": false,
    "jupyter": {
     "outputs_hidden": false
    },
    "pycharm": {
     "name": "#%%\n"
    }
   },
   "outputs": [],
   "source": [
    "data.isna().sum()"
   ]
  },
  {
   "cell_type": "code",
   "execution_count": null,
   "metadata": {
    "collapsed": false,
    "jupyter": {
     "outputs_hidden": false
    },
    "pycharm": {
     "name": "#%%\n"
    }
   },
   "outputs": [],
   "source": [
    "data['TotalCharges'] = pd.to_numeric(data['TotalCharges'])"
   ]
  },
  {
   "cell_type": "code",
   "execution_count": null,
   "metadata": {
    "collapsed": false,
    "jupyter": {
     "outputs_hidden": false
    },
    "pycharm": {
     "name": "#%%\n"
    }
   },
   "outputs": [],
   "source": [
    "mean = data['TotalCharges'].mean()\n",
    "data.fillna(mean, inplace=True)\n",
    "# Now we know that total charges has nan values\n",
    "data.isna().sum()"
   ]
  },
  {
   "cell_type": "code",
   "execution_count": null,
   "metadata": {
    "collapsed": false,
    "jupyter": {
     "outputs_hidden": false
    },
    "pycharm": {
     "name": "#%%\n"
    }
   },
   "outputs": [],
   "source": [
    "plt.figure(figsize=(10,8), dpi=80)\n",
    "# Sns.set(rc={'figure.figsize':(25,15)})\n",
    "ax = sns.catplot(x=\"CreditRating\", y=\"TotalCharges\", hue=\"Churn\", kind=\"box\", data=data, height = 6,aspect = 1.5,palette = 'RdBu')\n",
    "plt.title('Comparison of Total Charges for each CreditRating',fontsize = 20)\n",
    "plt.xlabel('CreditRating',fontsize = 15)\n",
    "plt.ylabel('Total Charges',fontsize = 15)"
   ]
  }
 ],
 "metadata": {
  "kernelspec": {
   "display_name": "Python 3",
   "language": "python",
   "name": "python3"
  },
  "language_info": {
   "codemirror_mode": {
    "name": "ipython",
    "version": 3
   },
   "file_extension": ".py",
   "mimetype": "text/x-python",
   "name": "python",
   "nbconvert_exporter": "python",
   "pygments_lexer": "ipython3",
   "version": "3.6.8"
  }
 },
 "nbformat": 4,
 "nbformat_minor": 4
}
