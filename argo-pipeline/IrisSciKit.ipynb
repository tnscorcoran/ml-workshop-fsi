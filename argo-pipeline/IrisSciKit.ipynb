{
 "metadata": {
  "language_info": {
   "codemirror_mode": {
    "name": "ipython",
    "version": 3
   },
   "file_extension": ".py",
   "mimetype": "text/x-python",
   "name": "python",
   "nbconvert_exporter": "python",
   "pygments_lexer": "ipython3",
   "version": "3.7.8-final"
  },
  "orig_nbformat": 2,
  "kernelspec": {
   "name": "Python 3.7.8 64-bit",
   "display_name": "Python 3.7.8 64-bit",
   "metadata": {
    "interpreter": {
     "hash": "aee8b7b246df8f9039afb4144a1f6fd8d2ca17a180786b69acc140d282b71a49"
    }
   }
  }
 },
 "nbformat": 4,
 "nbformat_minor": 2,
 "cells": [
  {
   "cell_type": "code",
   "execution_count": 1,
   "metadata": {},
   "outputs": [],
   "source": [
    "from components.preprocessing import preprocessing\n",
    "from components.training import training\n",
    "from components.validating import validating"
   ]
  },
  {
   "cell_type": "code",
   "execution_count": 2,
   "metadata": {},
   "outputs": [
    {
     "output_type": "stream",
     "name": "stdout",
     "text": [
      "Print train and test location /tmp/hdfc b\nLoading iris data set...\nDataset Splited!\n"
     ]
    },
    {
     "output_type": "execute_result",
     "data": {
      "text/plain": [
       "'success'"
      ]
     },
     "metadata": {},
     "execution_count": 2
    }
   ],
   "source": [
    "preprocessing._pre_process('/tmp/odh', 'b')"
   ]
  },
  {
   "cell_type": "code",
   "execution_count": 4,
   "metadata": {},
   "outputs": [
    {
     "output_type": "stream",
     "name": "stdout",
     "text": [
      "Print train and test location /tmp/hdfc tmp/hdfc\nTraining model...\nModel trained!\nSaving model in /tmp/hdfc/model/IrisClassifier.sav\nModel saved!\n"
     ]
    },
    {
     "output_type": "execute_result",
     "data": {
      "text/plain": [
       "'success'"
      ]
     },
     "metadata": {},
     "execution_count": 4
    }
   ],
   "source": [
    "training._train('/tmp/odh', 'tmp/odh')"
   ]
  },
  {
   "cell_type": "code",
   "execution_count": 5,
   "metadata": {},
   "outputs": [
    {
     "output_type": "stream",
     "name": "stdout",
     "text": [
      "Print train and test location /tmp/hdfc /tmp/hdfc\nAccuracy: 91.67%\n"
     ]
    },
    {
     "output_type": "execute_result",
     "data": {
      "text/plain": [
       "'success'"
      ]
     },
     "metadata": {},
     "execution_count": 5
    }
   ],
   "source": [
    "validating._validate('/tmp/odh', '/tmp/odh')"
   ]
  },
  {
   "cell_type": "code",
   "execution_count": null,
   "metadata": {},
   "outputs": [],
   "source": []
  }
 ]
}